{
 "cells": [
  {
   "cell_type": "code",
   "execution_count": 1,
   "metadata": {},
   "outputs": [],
   "source": [
    "import sys\n",
    "reload(sys)\n",
    "sys.setdefaultencoding('utf8')\n",
    "from __future__ import division\n",
    "import matplotlib.pyplot as plt\n",
    "import seaborn as sns\n",
    "import numpy as np\n",
    "import pandas as pd\n",
    "from collections import Counter\n",
    "from nltk.corpus import stopwords\n",
    "import string\n",
    "from matplotlib import rcParams\n",
    "from itertools import chain\n",
    "from nltk import everygrams, word_tokenize\n",
    "import pprint\n",
    "import enchant\n",
    "import nltk"
   ]
  },
  {
   "cell_type": "code",
   "execution_count": 2,
   "metadata": {},
   "outputs": [],
   "source": [
    "rcParams['figure.figsize'] = 15, 7\n",
    "sns.set_style(\"whitegrid\")"
   ]
  },
  {
   "cell_type": "code",
   "execution_count": 3,
   "metadata": {},
   "outputs": [],
   "source": [
    "def spellcheck(string):\n",
    "    dictionary = enchant.Dict(\"en_US\")\n",
    "    number_of_misspelled_words = 0\n",
    "    for word in string.split():\n",
    "        if dictionary.check(word) == False:\n",
    "            number_of_misspelled_words = number_of_misspelled_words + 1\n",
    "            print word\n",
    "        else:\n",
    "            number_of_misspelled_words = number_of_misspelled_words\n",
    "    return number_of_misspelled_words"
   ]
  },
  {
   "cell_type": "code",
   "execution_count": 4,
   "metadata": {},
   "outputs": [],
   "source": [
    "def contains_spelling_errors(value):\n",
    "    boolean = False\n",
    "    if value > 0:\n",
    "        boolean = True\n",
    "    else:\n",
    "        boolean = boolean\n",
    "    return boolean"
   ]
  },
  {
   "cell_type": "code",
   "execution_count": 5,
   "metadata": {},
   "outputs": [],
   "source": [
    "df_train = pd.read_csv('/home/andrew/Desktop/Kaggle_Competition/Data/train.csv', encoding = \"utf_8\")\n",
    "df_test = pd.read_csv('/home/andrew/Desktop/Kaggle_Competition/Data/test.csv', encoding = 'utf_8')"
   ]
  },
  {
   "cell_type": "code",
   "execution_count": 6,
   "metadata": {},
   "outputs": [],
   "source": [
    "stop = stopwords.words('english')"
   ]
  },
  {
   "cell_type": "code",
   "execution_count": 7,
   "metadata": {},
   "outputs": [],
   "source": [
    "pat = r'\\b(?:{})\\b'.format('|'.join(stop))\n",
    "df_train['question_text'] = df_train['question_text'].str.lower()\n",
    "df_train['question_text'] = df_train['question_text'].str.replace(pat, '')"
   ]
  },
  {
   "cell_type": "code",
   "execution_count": 8,
   "metadata": {},
   "outputs": [],
   "source": [
    "df_train['question_text_processed'] = df_train['question_text'].str.replace(\n",
    "    '[{}]'.format(string.punctuation), '')"
   ]
  },
  {
   "cell_type": "code",
   "execution_count": 9,
   "metadata": {},
   "outputs": [
    {
     "data": {
      "text/plain": [
       "<matplotlib.axes._subplots.AxesSubplot at 0x7fe8e33095d0>"
      ]
     },
     "execution_count": 9,
     "metadata": {},
     "output_type": "execute_result"
    },
    {
     "data": {
      "image/png": "[encoded data removed]",
      "text/plain": [
       "<Figure size 1080x504 with 1 Axes>"
      ]
     },
     "metadata": {},
     "output_type": "display_data"
    }
   ],
   "source": [
    "sns.countplot(df_train['target'])"
   ]
  },
  {
   "cell_type": "code",
   "execution_count": 10,
   "metadata": {},
   "outputs": [],
   "source": [
    "# WARNING: DO NOT EXECUTE UNLESS 100% SURE THIS CODE IS ACCURATE (LONG RUNNING TIME)\n",
    "#sincere = df_train.loc[df_train['target'] == 0]\n",
    "#sincere['spelling_error_count'] = sincere['question_text_processed'].apply(spellcheck)\n",
    "#sincere.to_csv(\"/home/pc/Desktop/Kaggle_Competition/Data/sincere_data_raw.csv\")"
   ]
  },
  {
   "cell_type": "code",
   "execution_count": 11,
   "metadata": {},
   "outputs": [],
   "source": [
    "# WARNING: DO NOT EXECUTE UNLESS 100% SURE THIS CODE IS ACCURATE (LONG RUNNING TIME)\n",
    "#insincere = df_train.loc[df_train['target'] == 1]\n",
    "#insincere['spelling_error_count'] = insincere['question_text_processed'].apply(spellcheck)\n",
    "#insincere.to_csv(\"/home/pc/Desktop/Kaggle_Competition/Data/insincere_data_raw.csv\")"
   ]
  },
  {
   "cell_type": "code",
   "execution_count": 12,
   "metadata": {},
   "outputs": [],
   "source": [
    "sincere = pd.read_csv('/home/andrew/Desktop/Kaggle_Competition/Data/sincere_data_raw.csv', encoding = 'utf_8')\n",
    "insincere = pd.read_csv('/home/andrew/Desktop/Kaggle_Competition/Data/insincere_data_raw.csv', encoding = 'utf_8')"
   ]
  },
  {
   "cell_type": "code",
   "execution_count": 13,
   "metadata": {},
   "outputs": [],
   "source": [
    "insincere['contains_spelling_errors'] = insincere['spelling_error_count'].apply(contains_spelling_errors)\n",
    "insincere.drop('Unnamed: 0', axis = 1, inplace = True)\n",
    "sincere['contains_spelling_errors'] = sincere['spelling_error_count'].apply(contains_spelling_errors)\n",
    "sincere.drop('Unnamed: 0', axis = 1, inplace = True)"
   ]
  },
  {
   "cell_type": "code",
   "execution_count": 14,
   "metadata": {},
   "outputs": [
    {
     "data": {
      "text/html": [
       "<div>\n",
       "<style scoped>\n",
       "    .dataframe tbody tr th:only-of-type {\n",
       "        vertical-align: middle;\n",
       "    }\n",
       "\n",
       "    .dataframe tbody tr th {\n",
       "        vertical-align: top;\n",
       "    }\n",
       "\n",
       "    .dataframe thead th {\n",
       "        text-align: right;\n",
       "    }\n",
       "</style>\n",
       "<table border=\"1\" class=\"dataframe\">\n",
       "  <thead>\n",
       "    <tr style=\"text-align: right;\">\n",
       "      <th></th>\n",
       "      <th>qid</th>\n",
       "      <th>question_text</th>\n",
       "      <th>target</th>\n",
       "      <th>question_text_processed</th>\n",
       "      <th>spelling_error_count</th>\n",
       "      <th>contains_spelling_errors</th>\n",
       "    </tr>\n",
       "  </thead>\n",
       "  <tbody>\n",
       "    <tr>\n",
       "      <th>0</th>\n",
       "      <td>0000e91571b60c2fb487</td>\n",
       "      <td>Has the United States become the largest dicta...</td>\n",
       "      <td>1</td>\n",
       "      <td>Has the United States become the largest dicta...</td>\n",
       "      <td>0</td>\n",
       "      <td>False</td>\n",
       "    </tr>\n",
       "    <tr>\n",
       "      <th>1</th>\n",
       "      <td>00013ceca3f624b09f42</td>\n",
       "      <td>Which babies are more sweeter to their parents...</td>\n",
       "      <td>1</td>\n",
       "      <td>Which babies are more sweeter to their parents...</td>\n",
       "      <td>0</td>\n",
       "      <td>False</td>\n",
       "    </tr>\n",
       "    <tr>\n",
       "      <th>2</th>\n",
       "      <td>0004a7fcb2bf73076489</td>\n",
       "      <td>If blacks support school choice and mandatory ...</td>\n",
       "      <td>1</td>\n",
       "      <td>If blacks support school choice and mandatory ...</td>\n",
       "      <td>1</td>\n",
       "      <td>True</td>\n",
       "    </tr>\n",
       "    <tr>\n",
       "      <th>3</th>\n",
       "      <td>00052793eaa287aff1e1</td>\n",
       "      <td>I am gay boy and I love my cousin (boy). He is...</td>\n",
       "      <td>1</td>\n",
       "      <td>I am gay boy and I love my cousin boy He is se...</td>\n",
       "      <td>2</td>\n",
       "      <td>True</td>\n",
       "    </tr>\n",
       "    <tr>\n",
       "      <th>4</th>\n",
       "      <td>000537213b01fd77b58a</td>\n",
       "      <td>Which races have the smallest penis?</td>\n",
       "      <td>1</td>\n",
       "      <td>Which races have the smallest penis</td>\n",
       "      <td>0</td>\n",
       "      <td>False</td>\n",
       "    </tr>\n",
       "  </tbody>\n",
       "</table>\n",
       "</div>"
      ],
      "text/plain": [
       "                    qid                                      question_text  \\\n",
       "0  0000e91571b60c2fb487  Has the United States become the largest dicta...   \n",
       "1  00013ceca3f624b09f42  Which babies are more sweeter to their parents...   \n",
       "2  0004a7fcb2bf73076489  If blacks support school choice and mandatory ...   \n",
       "3  00052793eaa287aff1e1  I am gay boy and I love my cousin (boy). He is...   \n",
       "4  000537213b01fd77b58a               Which races have the smallest penis?   \n",
       "\n",
       "   target                            question_text_processed  \\\n",
       "0       1  Has the United States become the largest dicta...   \n",
       "1       1  Which babies are more sweeter to their parents...   \n",
       "2       1  If blacks support school choice and mandatory ...   \n",
       "3       1  I am gay boy and I love my cousin boy He is se...   \n",
       "4       1                Which races have the smallest penis   \n",
       "\n",
       "   spelling_error_count  contains_spelling_errors  \n",
       "0                     0                     False  \n",
       "1                     0                     False  \n",
       "2                     1                      True  \n",
       "3                     2                      True  \n",
       "4                     0                     False  "
      ]
     },
     "execution_count": 14,
     "metadata": {},
     "output_type": "execute_result"
    }
   ],
   "source": [
    "insincere.head()"
   ]
  },
  {
   "cell_type": "code",
   "execution_count": 15,
   "metadata": {},
   "outputs": [
    {
     "data": {
      "text/html": [
       "<div>\n",
       "<style scoped>\n",
       "    .dataframe tbody tr th:only-of-type {\n",
       "        vertical-align: middle;\n",
       "    }\n",
       "\n",
       "    .dataframe tbody tr th {\n",
       "        vertical-align: top;\n",
       "    }\n",
       "\n",
       "    .dataframe thead th {\n",
       "        text-align: right;\n",
       "    }\n",
       "</style>\n",
       "<table border=\"1\" class=\"dataframe\">\n",
       "  <thead>\n",
       "    <tr style=\"text-align: right;\">\n",
       "      <th></th>\n",
       "      <th>qid</th>\n",
       "      <th>question_text</th>\n",
       "      <th>target</th>\n",
       "      <th>question_text_processed</th>\n",
       "      <th>spelling_error_count</th>\n",
       "      <th>contains_spelling_errors</th>\n",
       "    </tr>\n",
       "  </thead>\n",
       "  <tbody>\n",
       "    <tr>\n",
       "      <th>0</th>\n",
       "      <td>00002165364db923c7e6</td>\n",
       "      <td>How did Quebec nationalists see their province...</td>\n",
       "      <td>0</td>\n",
       "      <td>How did Quebec nationalists see their province...</td>\n",
       "      <td>0</td>\n",
       "      <td>False</td>\n",
       "    </tr>\n",
       "    <tr>\n",
       "      <th>1</th>\n",
       "      <td>000032939017120e6e44</td>\n",
       "      <td>Do you have an adopted dog, how would you enco...</td>\n",
       "      <td>0</td>\n",
       "      <td>Do you have an adopted dog how would you encou...</td>\n",
       "      <td>0</td>\n",
       "      <td>False</td>\n",
       "    </tr>\n",
       "    <tr>\n",
       "      <th>2</th>\n",
       "      <td>0000412ca6e4628ce2cf</td>\n",
       "      <td>Why does velocity affect time? Does velocity a...</td>\n",
       "      <td>0</td>\n",
       "      <td>Why does velocity affect time Does velocity af...</td>\n",
       "      <td>0</td>\n",
       "      <td>False</td>\n",
       "    </tr>\n",
       "    <tr>\n",
       "      <th>3</th>\n",
       "      <td>000042bf85aa498cd78e</td>\n",
       "      <td>How did Otto von Guericke used the Magdeburg h...</td>\n",
       "      <td>0</td>\n",
       "      <td>How did Otto von Guericke used the Magdeburg h...</td>\n",
       "      <td>3</td>\n",
       "      <td>True</td>\n",
       "    </tr>\n",
       "    <tr>\n",
       "      <th>4</th>\n",
       "      <td>0000455dfa3e01eae3af</td>\n",
       "      <td>Can I convert montra helicon D to a mountain b...</td>\n",
       "      <td>0</td>\n",
       "      <td>Can I convert montra helicon D to a mountain b...</td>\n",
       "      <td>2</td>\n",
       "      <td>True</td>\n",
       "    </tr>\n",
       "  </tbody>\n",
       "</table>\n",
       "</div>"
      ],
      "text/plain": [
       "                    qid                                      question_text  \\\n",
       "0  00002165364db923c7e6  How did Quebec nationalists see their province...   \n",
       "1  000032939017120e6e44  Do you have an adopted dog, how would you enco...   \n",
       "2  0000412ca6e4628ce2cf  Why does velocity affect time? Does velocity a...   \n",
       "3  000042bf85aa498cd78e  How did Otto von Guericke used the Magdeburg h...   \n",
       "4  0000455dfa3e01eae3af  Can I convert montra helicon D to a mountain b...   \n",
       "\n",
       "   target                            question_text_processed  \\\n",
       "0       0  How did Quebec nationalists see their province...   \n",
       "1       0  Do you have an adopted dog how would you encou...   \n",
       "2       0  Why does velocity affect time Does velocity af...   \n",
       "3       0  How did Otto von Guericke used the Magdeburg h...   \n",
       "4       0  Can I convert montra helicon D to a mountain b...   \n",
       "\n",
       "   spelling_error_count  contains_spelling_errors  \n",
       "0                     0                     False  \n",
       "1                     0                     False  \n",
       "2                     0                     False  \n",
       "3                     3                      True  \n",
       "4                     2                      True  "
      ]
     },
     "execution_count": 15,
     "metadata": {},
     "output_type": "execute_result"
    }
   ],
   "source": [
    "sincere.head()"
   ]
  },
  {
   "cell_type": "code",
   "execution_count": 16,
   "metadata": {},
   "outputs": [],
   "source": [
    "total_sincere_spelling_errors = sincere['spelling_error_count'].sum()\n",
    "total_insincere_spelling_errors = insincere['spelling_error_count'].sum()\n",
    "print \"Total sincere spelling errors:\", total_sincere_spelling_errors\n",
    "print \"Total insincere spelling errors:\", total_insincere_spelling_errors"
   ]
  },
  {
   "cell_type": "code",
   "execution_count": 17,
   "metadata": {},
   "outputs": [],
   "source": [
    "total_error_counts = total_sincere_spelling_errors + total_insincere_spelling_errors\n",
    "number_counts = (total_sincere_spelling_errors / total_error_counts * 100, \n",
    "                 total_insincere_spelling_errors / total_error_counts * 100)"
   ]
  },
  {
   "cell_type": "code",
   "execution_count": 18,
   "metadata": {},
   "outputs": [
    {
     "data": {
      "text/plain": [
       "Text(0.5,1,'Shallow Calculation of Spelling Error Percentage by Class')"
      ]
     },
     "execution_count": 18,
     "metadata": {},
     "output_type": "execute_result"
    },
    {
     "data": {
      "image/png": "[encoded data removed]",
      "text/plain": [
       "<Figure size 1080x504 with 1 Axes>"
      ]
     },
     "metadata": {},
     "output_type": "display_data"
    }
   ],
   "source": [
    "plt.bar(['sincere spelling errors', 'insincere spelling errors'], number_counts)\n",
    "plt.xlabel(\"Classes\")\n",
    "plt.ylabel(\"Percentage of Total\")\n",
    "plt.title(\"Shallow Calculation of Spelling Error Percentage by Class\")"
   ]
  },
  {
   "cell_type": "code",
   "execution_count": 19,
   "metadata": {},
   "outputs": [
    {
     "data": {
      "text/plain": [
       "False    716589\n",
       "True     508723\n",
       "Name: contains_spelling_errors, dtype: int64"
      ]
     },
     "execution_count": 19,
     "metadata": {},
     "output_type": "execute_result"
    }
   ],
   "source": [
    "sincere['contains_spelling_errors'].value_counts()"
   ]
  },
  {
   "cell_type": "code",
   "execution_count": 20,
   "metadata": {},
   "outputs": [
    {
     "data": {
      "text/plain": [
       "False    0.584822\n",
       "True     0.415178\n",
       "Name: contains_spelling_errors, dtype: float64"
      ]
     },
     "execution_count": 20,
     "metadata": {},
     "output_type": "execute_result"
    }
   ],
   "source": [
    "sincere['contains_spelling_errors'].value_counts(normalize = True)"
   ]
  },
  {
   "cell_type": "code",
   "execution_count": 21,
   "metadata": {},
   "outputs": [
    {
     "data": {
      "text/plain": [
       "<matplotlib.axes._subplots.AxesSubplot at 0x7fe8cecef590>"
      ]
     },
     "execution_count": 21,
     "metadata": {},
     "output_type": "execute_result"
    },
    {
     "data": {
      "image/png": "[encoded data removed]",
      "text/plain": [
       "<Figure size 1080x504 with 1 Axes>"
      ]
     },
     "metadata": {},
     "output_type": "display_data"
    }
   ],
   "source": [
    "sns.countplot(sincere['contains_spelling_errors'])"
   ]
  },
  {
   "cell_type": "code",
   "execution_count": 22,
   "metadata": {},
   "outputs": [
    {
     "data": {
      "text/plain": [
       "False    42977\n",
       "True     37833\n",
       "Name: contains_spelling_errors, dtype: int64"
      ]
     },
     "execution_count": 22,
     "metadata": {},
     "output_type": "execute_result"
    }
   ],
   "source": [
    "insincere['contains_spelling_errors'].value_counts()"
   ]
  },
  {
   "cell_type": "code",
   "execution_count": 23,
   "metadata": {},
   "outputs": [
    {
     "data": {
      "text/plain": [
       "False    0.531828\n",
       "True     0.468172\n",
       "Name: contains_spelling_errors, dtype: float64"
      ]
     },
     "execution_count": 23,
     "metadata": {},
     "output_type": "execute_result"
    }
   ],
   "source": [
    "insincere['contains_spelling_errors'].value_counts(normalize = True)"
   ]
  },
  {
   "cell_type": "code",
   "execution_count": 24,
   "metadata": {},
   "outputs": [
    {
     "data": {
      "text/plain": [
       "<matplotlib.axes._subplots.AxesSubplot at 0x7fe8cec58b50>"
      ]
     },
     "execution_count": 24,
     "metadata": {},
     "output_type": "execute_result"
    },
    {
     "data": {
      "image/png": "[encoded data removed]",
      "text/plain": [
       "<Figure size 1080x504 with 1 Axes>"
      ]
     },
     "metadata": {},
     "output_type": "display_data"
    }
   ],
   "source": [
    "sns.countplot(insincere['contains_spelling_errors'])"
   ]
  },
  {
   "cell_type": "code",
   "execution_count": 25,
   "metadata": {},
   "outputs": [],
   "source": [
    "insincere_bag_of_words = []\n",
    "for row in insincere['question_text']:\n",
    "    for word in row.split():\n",
    "        insincere_bag_of_words.append(word)\n",
    "insincere_dictionary = Counter(insincere_bag_of_words)\n",
    "insincere_count_df = pd.DataFrame.from_dict(insincere_dictionary, orient='index')"
   ]
  },
  {
   "cell_type": "code",
   "execution_count": 26,
   "metadata": {},
   "outputs": [],
   "source": [
    "sincere_bag_of_words = []\n",
    "for row in sincere['question_text']:\n",
    "    for word in row.split():\n",
    "        sincere_bag_of_words.append(word)\n",
    "sincere_dictionary = Counter(sincere_bag_of_words)\n",
    "sincere_count_df = pd.DataFrame.from_dict(sincere_dictionary, orient='index')"
   ]
  },
  {
   "cell_type": "code",
   "execution_count": 27,
   "metadata": {},
   "outputs": [],
   "source": [
    "words_selected = 25\n",
    "total_word_count_dictionary = insincere_dictionary + sincere_dictionary\n",
    "total_word_count_df = pd.DataFrame.from_dict(total_word_count_dictionary, orient='index')\n",
    "total_word_count_df.columns = ['total_word_count']\n",
    "total_word_count_df.sort_values(by = ['total_word_count'], inplace = True, ascending = False)\n",
    "total_word_count_df.reset_index(inplace = True)\n",
    "total_word_count_df.columns = ['word', 'total_word_count']\n",
    "total_word_count_df['sincere_count'] = total_word_count_df['word'].map(sincere_dictionary)\n",
    "total_word_count_df['insincere_count'] = total_word_count_df['word'].map(insincere_dictionary)\n",
    "total_word_count_df.sort_values(by = ['total_word_count'], inplace = True, ascending = False)"
   ]
  },
  {
   "cell_type": "code",
   "execution_count": 28,
   "metadata": {},
   "outputs": [],
   "source": [
    "selection = total_word_count_df.head(words_selected)\n",
    "selection['sincere_count_percentage'] = selection['sincere_count'] / selection['total_word_count'] *100\n",
    "selection['insincere_count_percentage'] = selection['insincere_count'] / selection['total_word_count'] * 100\n",
    "selection['word_ratio_i_to_s'] = selection['insincere_count'] / selection['sincere_count'] \n",
    "selection['word_ratio_s_to_i'] = selection['sincere_count'] / selection['insincere_count'] \n",
    "selection.sort_values(by = ['sincere_count_percentage'], inplace = True, ascending = False)\n",
    "selection.set_index('word', inplace = True)"
   ]
  },
  {
   "cell_type": "code",
   "execution_count": 29,
   "metadata": {},
   "outputs": [
    {
     "data": {
      "text/plain": [
       "Text(0.5,1,'Count Percentage of Word in Sincere and Insincere Classes in Training Dataset')"
      ]
     },
     "execution_count": 29,
     "metadata": {},
     "output_type": "execute_result"
    },
    {
     "data": {
      "image/png": "[encoded data removed]",
      "text/plain": [
       "<Figure size 1080x504 with 1 Axes>"
      ]
     },
     "metadata": {},
     "output_type": "display_data"
    }
   ],
   "source": [
    "ax = selection[['sincere_count_percentage', 'insincere_count_percentage']].plot.bar(rot = 1)\n",
    "ax.set_ylabel(\"Percentage\")\n",
    "ax.set_title(\"Count Percentage of Word in Sincere and Insincere Classes in Training Dataset\")"
   ]
  },
  {
   "cell_type": "code",
   "execution_count": 30,
   "metadata": {
    "scrolled": false
   },
   "outputs": [
    {
     "data": {
      "text/plain": [
       "Text(0.5,1,'Ratio of Word (Sincere to Insincere) in Training Dataset')"
      ]
     },
     "execution_count": 30,
     "metadata": {},
     "output_type": "execute_result"
    },
    {
     "data": {
      "image/png": "[encoded data removed]",
      "text/plain": [
       "<Figure size 1080x504 with 1 Axes>"
      ]
     },
     "metadata": {},
     "output_type": "display_data"
    }
   ],
   "source": [
    "ax = selection[['word_ratio_s_to_i']].plot.bar(rot = 1)\n",
    "ax.set_ylabel(\"Number of Times Higher Word is Seen\")\n",
    "ax.set_title(\"Ratio of Word (Sincere to Insincere) in Training Dataset\")"
   ]
  },
  {
   "cell_type": "code",
   "execution_count": 31,
   "metadata": {},
   "outputs": [
    {
     "data": {
      "text/html": [
       "<div>\n",
       "<style scoped>\n",
       "    .dataframe tbody tr th:only-of-type {\n",
       "        vertical-align: middle;\n",
       "    }\n",
       "\n",
       "    .dataframe tbody tr th {\n",
       "        vertical-align: top;\n",
       "    }\n",
       "\n",
       "    .dataframe thead th {\n",
       "        text-align: right;\n",
       "    }\n",
       "</style>\n",
       "<table border=\"1\" class=\"dataframe\">\n",
       "  <thead>\n",
       "    <tr style=\"text-align: right;\">\n",
       "      <th></th>\n",
       "      <th>word</th>\n",
       "      <th>word_count</th>\n",
       "    </tr>\n",
       "  </thead>\n",
       "  <tbody>\n",
       "    <tr>\n",
       "      <th>0</th>\n",
       "      <td>the</td>\n",
       "      <td>602699</td>\n",
       "    </tr>\n",
       "    <tr>\n",
       "      <th>1</th>\n",
       "      <td>What</td>\n",
       "      <td>411696</td>\n",
       "    </tr>\n",
       "    <tr>\n",
       "      <th>2</th>\n",
       "      <td>a</td>\n",
       "      <td>375985</td>\n",
       "    </tr>\n",
       "    <tr>\n",
       "      <th>3</th>\n",
       "      <td>to</td>\n",
       "      <td>367473</td>\n",
       "    </tr>\n",
       "    <tr>\n",
       "      <th>4</th>\n",
       "      <td>in</td>\n",
       "      <td>342723</td>\n",
       "    </tr>\n",
       "  </tbody>\n",
       "</table>\n",
       "</div>"
      ],
      "text/plain": [
       "   word  word_count\n",
       "0   the      602699\n",
       "1  What      411696\n",
       "2     a      375985\n",
       "3    to      367473\n",
       "4    in      342723"
      ]
     },
     "execution_count": 31,
     "metadata": {},
     "output_type": "execute_result"
    }
   ],
   "source": [
    "sincere_count_df = pd.DataFrame.from_dict(sincere_dictionary, orient='index')\n",
    "sincere_count_df.columns = ['word_count']\n",
    "sincere_count_df.sort_values(by = ['word_count'], inplace = True, ascending = False)\n",
    "sincere_count_df.reset_index(inplace = True)\n",
    "sincere_count_df.columns = ['word', 'word_count']\n",
    "sincere_count_df.head()"
   ]
  },
  {
   "cell_type": "code",
   "execution_count": 32,
   "metadata": {},
   "outputs": [
    {
     "data": {
      "text/plain": [
       "<matplotlib.axes._subplots.AxesSubplot at 0x7fe856f00e50>"
      ]
     },
     "execution_count": 32,
     "metadata": {},
     "output_type": "execute_result"
    },
    {
     "data": {
      "image/png": "[encoded data removed]",
      "text/plain": [
       "<Figure size 842.4x595.44 with 1 Axes>"
      ]
     },
     "metadata": {},
     "output_type": "display_data"
    }
   ],
   "source": [
    "words_selected = 10\n",
    "rcParams['figure.figsize'] = 11.7,8.27\n",
    "\n",
    "plt.title(\"Word Count: Top \" + str(words_selected) + \" in Sincere Questions\")\n",
    "sns.barplot(x = 'word', y = 'word_count', data = sincere_count_df.head(words_selected))"
   ]
  },
  {
   "cell_type": "code",
   "execution_count": 33,
   "metadata": {},
   "outputs": [
    {
     "data": {
      "text/html": [
       "<div>\n",
       "<style scoped>\n",
       "    .dataframe tbody tr th:only-of-type {\n",
       "        vertical-align: middle;\n",
       "    }\n",
       "\n",
       "    .dataframe tbody tr th {\n",
       "        vertical-align: top;\n",
       "    }\n",
       "\n",
       "    .dataframe thead th {\n",
       "        text-align: right;\n",
       "    }\n",
       "</style>\n",
       "<table border=\"1\" class=\"dataframe\">\n",
       "  <thead>\n",
       "    <tr style=\"text-align: right;\">\n",
       "      <th></th>\n",
       "      <th>word</th>\n",
       "      <th>word_count</th>\n",
       "    </tr>\n",
       "  </thead>\n",
       "  <tbody>\n",
       "    <tr>\n",
       "      <th>0</th>\n",
       "      <td>the</td>\n",
       "      <td>51249</td>\n",
       "    </tr>\n",
       "    <tr>\n",
       "      <th>1</th>\n",
       "      <td>to</td>\n",
       "      <td>35710</td>\n",
       "    </tr>\n",
       "    <tr>\n",
       "      <th>2</th>\n",
       "      <td>Why</td>\n",
       "      <td>32673</td>\n",
       "    </tr>\n",
       "    <tr>\n",
       "      <th>3</th>\n",
       "      <td>and</td>\n",
       "      <td>28167</td>\n",
       "    </tr>\n",
       "    <tr>\n",
       "      <th>4</th>\n",
       "      <td>a</td>\n",
       "      <td>26697</td>\n",
       "    </tr>\n",
       "  </tbody>\n",
       "</table>\n",
       "</div>"
      ],
      "text/plain": [
       "  word  word_count\n",
       "0  the       51249\n",
       "1   to       35710\n",
       "2  Why       32673\n",
       "3  and       28167\n",
       "4    a       26697"
      ]
     },
     "execution_count": 33,
     "metadata": {},
     "output_type": "execute_result"
    }
   ],
   "source": [
    "insincere_count_df = pd.DataFrame.from_dict(insincere_dictionary, orient='index')\n",
    "insincere_count_df.columns = ['word_count']\n",
    "insincere_count_df.sort_values(by = ['word_count'], inplace = True, ascending = False)\n",
    "insincere_count_df.reset_index(inplace = True)\n",
    "insincere_count_df.columns = ['word', 'word_count']\n",
    "insincere_count_df.head()"
   ]
  },
  {
   "cell_type": "code",
   "execution_count": 34,
   "metadata": {},
   "outputs": [
    {
     "data": {
      "image/png": "[encoded data removed]",
      "text/plain": [
       "<Figure size 842.4x595.44 with 2 Axes>"
      ]
     },
     "metadata": {},
     "output_type": "display_data"
    }
   ],
   "source": [
    "fig, (ax1, ax2) = plt.subplots(ncols = 2, sharey = True)\n",
    "sns.barplot(x = insincere_count_df['word'].head(10), y = insincere_count_df['word_count'], ax = ax1)\n",
    "sns.barplot(x = sincere_count_df['word'].head(10), y = sincere_count_df['word_count'], ax = ax2)\n",
    "for ax in fig.axes:\n",
    "    plt.sca(ax)\n",
    "    plt.xticks(rotation = 45)\n",
    "ax1.title.set_text('Word Count: Top 10 Insincere Words')\n",
    "ax2.title.set_text('Word Count: Top 10 Sincere Words')"
   ]
  },
  {
   "cell_type": "code",
   "execution_count": 35,
   "metadata": {},
   "outputs": [],
   "source": [
    "insincere['question_text_2gram'] = insincere['question_text'].apply(\n",
    "        lambda x: [' '.join(ng) for ng in everygrams(word_tokenize(x), 2)])"
   ]
  },
  {
   "cell_type": "code",
   "execution_count": 36,
   "metadata": {},
   "outputs": [
    {
     "data": {
      "text/html": [
       "<div>\n",
       "<style scoped>\n",
       "    .dataframe tbody tr th:only-of-type {\n",
       "        vertical-align: middle;\n",
       "    }\n",
       "\n",
       "    .dataframe tbody tr th {\n",
       "        vertical-align: top;\n",
       "    }\n",
       "\n",
       "    .dataframe thead th {\n",
       "        text-align: right;\n",
       "    }\n",
       "</style>\n",
       "<table border=\"1\" class=\"dataframe\">\n",
       "  <thead>\n",
       "    <tr style=\"text-align: right;\">\n",
       "      <th></th>\n",
       "      <th>qid</th>\n",
       "      <th>question_text</th>\n",
       "      <th>target</th>\n",
       "      <th>question_text_processed</th>\n",
       "      <th>spelling_error_count</th>\n",
       "      <th>contains_spelling_errors</th>\n",
       "      <th>question_text_2gram</th>\n",
       "    </tr>\n",
       "  </thead>\n",
       "  <tbody>\n",
       "    <tr>\n",
       "      <th>0</th>\n",
       "      <td>0000e91571b60c2fb487</td>\n",
       "      <td>Has the United States become the largest dicta...</td>\n",
       "      <td>1</td>\n",
       "      <td>Has the United States become the largest dicta...</td>\n",
       "      <td>0</td>\n",
       "      <td>False</td>\n",
       "      <td>[Has the, the United, United States, States be...</td>\n",
       "    </tr>\n",
       "    <tr>\n",
       "      <th>1</th>\n",
       "      <td>00013ceca3f624b09f42</td>\n",
       "      <td>Which babies are more sweeter to their parents...</td>\n",
       "      <td>1</td>\n",
       "      <td>Which babies are more sweeter to their parents...</td>\n",
       "      <td>0</td>\n",
       "      <td>False</td>\n",
       "      <td>[Which babies, babies are, are more, more swee...</td>\n",
       "    </tr>\n",
       "    <tr>\n",
       "      <th>2</th>\n",
       "      <td>0004a7fcb2bf73076489</td>\n",
       "      <td>If blacks support school choice and mandatory ...</td>\n",
       "      <td>1</td>\n",
       "      <td>If blacks support school choice and mandatory ...</td>\n",
       "      <td>1</td>\n",
       "      <td>True</td>\n",
       "      <td>[If blacks, blacks support, support school, sc...</td>\n",
       "    </tr>\n",
       "    <tr>\n",
       "      <th>3</th>\n",
       "      <td>00052793eaa287aff1e1</td>\n",
       "      <td>I am gay boy and I love my cousin (boy). He is...</td>\n",
       "      <td>1</td>\n",
       "      <td>I am gay boy and I love my cousin boy He is se...</td>\n",
       "      <td>2</td>\n",
       "      <td>True</td>\n",
       "      <td>[I am, am gay, gay boy, boy and, and I, I love...</td>\n",
       "    </tr>\n",
       "    <tr>\n",
       "      <th>4</th>\n",
       "      <td>000537213b01fd77b58a</td>\n",
       "      <td>Which races have the smallest penis?</td>\n",
       "      <td>1</td>\n",
       "      <td>Which races have the smallest penis</td>\n",
       "      <td>0</td>\n",
       "      <td>False</td>\n",
       "      <td>[Which races, races have, have the, the smalle...</td>\n",
       "    </tr>\n",
       "  </tbody>\n",
       "</table>\n",
       "</div>"
      ],
      "text/plain": [
       "                    qid                                      question_text  \\\n",
       "0  0000e91571b60c2fb487  Has the United States become the largest dicta...   \n",
       "1  00013ceca3f624b09f42  Which babies are more sweeter to their parents...   \n",
       "2  0004a7fcb2bf73076489  If blacks support school choice and mandatory ...   \n",
       "3  00052793eaa287aff1e1  I am gay boy and I love my cousin (boy). He is...   \n",
       "4  000537213b01fd77b58a               Which races have the smallest penis?   \n",
       "\n",
       "   target                            question_text_processed  \\\n",
       "0       1  Has the United States become the largest dicta...   \n",
       "1       1  Which babies are more sweeter to their parents...   \n",
       "2       1  If blacks support school choice and mandatory ...   \n",
       "3       1  I am gay boy and I love my cousin boy He is se...   \n",
       "4       1                Which races have the smallest penis   \n",
       "\n",
       "   spelling_error_count  contains_spelling_errors  \\\n",
       "0                     0                     False   \n",
       "1                     0                     False   \n",
       "2                     1                      True   \n",
       "3                     2                      True   \n",
       "4                     0                     False   \n",
       "\n",
       "                                 question_text_2gram  \n",
       "0  [Has the, the United, United States, States be...  \n",
       "1  [Which babies, babies are, are more, more swee...  \n",
       "2  [If blacks, blacks support, support school, sc...  \n",
       "3  [I am, am gay, gay boy, boy and, and I, I love...  \n",
       "4  [Which races, races have, have the, the smalle...  "
      ]
     },
     "execution_count": 36,
     "metadata": {},
     "output_type": "execute_result"
    }
   ],
   "source": [
    "insincere.head()"
   ]
  },
  {
   "cell_type": "code",
   "execution_count": null,
   "metadata": {},
   "outputs": [],
   "source": [
    "sincere['question_text_2gram'] = sincere['question_text'].apply(\n",
    "        lambda x: [' '.join(ng) for ng in everygrams(word_tokenize(x), 2)])"
   ]
  }
 ],
 "metadata": {
  "kernelspec": {
   "display_name": "Python 2",
   "language": "python",
   "name": "python2"
  },
  "language_info": {
   "codemirror_mode": {
    "name": "ipython",
    "version": 2
   },
   "file_extension": ".py",
   "mimetype": "text/x-python",
   "name": "python",
   "nbconvert_exporter": "python",
   "pygments_lexer": "ipython2",
   "version": "2.7.15rc1"
  }
 },
 "nbformat": 4,
 "nbformat_minor": 2
}
